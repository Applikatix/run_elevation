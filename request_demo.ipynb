{
 "cells": [
  {
   "cell_type": "markdown",
   "metadata": {},
   "source": [
    "# Demo af `request`\n",
    "\n",
    "Et python lib til http-requests\n",
    "\n",
    "Jeg har nogle filer fra mit løbe ur, med geo-punkter, men højde data er meget uprecise, så jeg vil have noget bedre.\n",
    "Derfor vil jeg hente fra __opentopodata.org__."
   ]
  },
  {
   "cell_type": "code",
   "execution_count": null,
   "metadata": {
    "vscode": {
     "languageId": "powershell"
    }
   },
   "outputs": [],
   "source": [
    "pip install requests"
   ]
  },
  {
   "cell_type": "code",
   "execution_count": null,
   "metadata": {},
   "outputs": [],
   "source": [
    "import requests\n",
    "res = requests.get('https://api.opentopodata.org/v1/test-dataset?locations=55.73197203068785,12.343950949062537')\n",
    "print(res.text)\n"
   ]
  },
  {
   "cell_type": "markdown",
   "metadata": {},
   "source": [
    "Det kan jeg godt gøre lidt pænere"
   ]
  },
  {
   "cell_type": "code",
   "execution_count": null,
   "metadata": {},
   "outputs": [],
   "source": [
    "import time\n",
    "\n",
    "# https://api.opentopodata.org/v1/eudem25m?locations=55.732009,12.343829\n",
    "\n",
    "lat = 55.921015329658985\n",
    "long = 11.662305062636733\n",
    "\n",
    "params = {'locations': f\"{lat},{long}\"}\n",
    "url  = 'https://api.opentopodata.org/v1/eudem25m'\n",
    "\n",
    "r = requests.get(url, params=params)\n",
    "\n",
    "print(r)\n",
    "print(r.text)\n",
    "\n",
    "print(r.json()['results'][0]['elevation'])"
   ]
  },
  {
   "cell_type": "markdown",
   "metadata": {},
   "source": [
    "Det var noget med nogle filer...\n",
    "\n",
    "De er i et propriotært binært format `.FIT`, så det skal indlæses med "
   ]
  },
  {
   "cell_type": "code",
   "execution_count": null,
   "metadata": {
    "vscode": {
     "languageId": "powershell"
    }
   },
   "outputs": [],
   "source": [
    "pip install pytz fitdecode"
   ]
  },
  {
   "cell_type": "code",
   "execution_count": null,
   "metadata": {},
   "outputs": [],
   "source": [
    "import pytz\n",
    "from fit_file import read\n",
    "    \n",
    "fname = \"data/hok_klubmesterskab_2022/CA8D1347.FIT\"\n",
    "points = read.read_points(fname)\n",
    "print(points)\n"
   ]
  },
  {
   "cell_type": "code",
   "execution_count": null,
   "metadata": {},
   "outputs": [],
   "source": [
    "import json\n",
    "json_points = json.dumps(points, default=str, indent=2)\n",
    "print(json_points)"
   ]
  },
  {
   "cell_type": "code",
   "execution_count": null,
   "metadata": {},
   "outputs": [],
   "source": [
    "import time\n",
    "\n",
    "for p in points:\n",
    "    lat = p['latitude']\n",
    "    long = p['longitude']\n",
    "\n",
    "    params = {'locations': f\"{lat},{long}\"}\n",
    "    url  = 'https://api.opentopodata.org/v1/eudem25m'\n",
    "\n",
    "    r = requests.get(url, params=params)\n",
    "\n",
    "    print(r)\n",
    "    print(r.text)\n",
    "\n",
    "    print(r.json()['results'][0]['elevation'])\n",
    "\n",
    "    p['elevation'] = r.json()['results'][0]['elevation']\n",
    "    time.sleep(1)"
   ]
  },
  {
   "cell_type": "code",
   "execution_count": null,
   "metadata": {},
   "outputs": [],
   "source": [
    "n = len(points)\n",
    "wz = 100 # window size\n",
    "\n",
    "for w in range(0, n, wz):\n",
    "    # print(w)\n",
    "    # for i in range(w, w+wz):\n",
    "    #     print(f\"{i},\", end=\" \")\n",
    "    \n",
    "    # print(points[w: w+wz])\n",
    "\n",
    "    # for p in points[w: w+100]:\n",
    "    #     print(p)\n",
    "\n",
    "    lat_long_str_list = [f\"{p['latitude']},{p['longitude']}\" for p in points[w: w + wz]]\n",
    "    lat_log_str = \"|\".join(lat_long_str_list)\n",
    "    # print(lat_log_str)\n",
    "\n",
    "    params = {'locations': lat_log_str}\n",
    "    url  = 'https://api.opentopodata.org/v1/eudem25m'\n",
    "    r = requests.get(url, params=params)\n",
    "    if r.status_code != 200:\n",
    "        print(r.status_code)\n",
    "        print(r.text)\n",
    "    results = r.json()['results']\n",
    "    # print(results)\n",
    "\n",
    "    for i, ep in enumerate(results):\n",
    "        points[w + i]['elevation'] = ep['elevation']\n",
    "\n",
    "    time.sleep(0.5)\n",
    "\n",
    "points\n"
   ]
  },
  {
   "cell_type": "markdown",
   "metadata": {},
   "source": [
    "Forskellen mellem den oprindelige `altitude` og den nytilføjede `elevation`?"
   ]
  },
  {
   "cell_type": "code",
   "execution_count": null,
   "metadata": {},
   "outputs": [],
   "source": [
    "akkumuleret_diff = 0\n",
    "for p in points:\n",
    "    print(f\"Forskellen mellem `altitude` {p['altitude']} og `elevation` {p['elevation']}: {p['altitude'] - p['elevation']} \")\n",
    "    akkumuleret_diff += (p['elevation'] - p['altitude'])\n",
    "\n",
    "akkumuleret_diff / len(points)"
   ]
  },
  {
   "cell_type": "markdown",
   "metadata": {},
   "source": [
    "\n",
    "Således gemmes som _komma-separerede-værdier_ (csv):"
   ]
  },
  {
   "cell_type": "code",
   "execution_count": 52,
   "metadata": {},
   "outputs": [],
   "source": [
    "import csv\n",
    "foutname = fname.split('.')[-2] # næstsidste inden sidste '.'\n",
    "foutname += '.csv'\n",
    "\n",
    "with open(foutname, \"+w\", newline='') as csvfile:\n",
    "    fieldnames = points[0].keys()\n",
    "    writer = csv.DictWriter(csvfile, fieldnames)\n",
    "    writer.writeheader()\n",
    "    writer.writerows(points)\n"
   ]
  },
  {
   "cell_type": "code",
   "execution_count": null,
   "metadata": {},
   "outputs": [],
   "source": [
    "\n",
    "import requests\n",
    "\n",
    "response = requests.get(\n",
    "    url='https://api.energidataservice.dk/dataset/ElectricityProdex5MinRealtime?offset=0&start=2024-01-01T00:00&sort=Minutes5UTC%20DESC&limit=1000')\n",
    "\n",
    "result = response.json()\n",
    "\n",
    "for k, v in result.items():\n",
    "    print(k, v)\n",
    "\n",
    "records = result.get('records', [])\n",
    "\n",
    "print('records:')\n",
    "# for record in records:\n",
    "#     print(' ', record)"
   ]
  }
 ],
 "metadata": {
  "kernelspec": {
   "display_name": "Python 3",
   "language": "python",
   "name": "python3"
  },
  "language_info": {
   "codemirror_mode": {
    "name": "ipython",
    "version": 3
   },
   "file_extension": ".py",
   "mimetype": "text/x-python",
   "name": "python",
   "nbconvert_exporter": "python",
   "pygments_lexer": "ipython3",
   "version": "3.13.0"
  }
 },
 "nbformat": 4,
 "nbformat_minor": 2
}
